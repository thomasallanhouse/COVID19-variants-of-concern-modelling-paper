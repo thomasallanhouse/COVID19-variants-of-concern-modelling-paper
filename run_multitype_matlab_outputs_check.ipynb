{
 "cells": [
  {
   "cell_type": "code",
   "execution_count": 2,
   "metadata": {},
   "outputs": [],
   "source": [
    "import numpy as np\n",
    "import matplotlib.pyplot as plt\n",
    "from tqdm import tqdm\n",
    "import numpy.linalg as nla\n",
    "import seaborn as sns\n",
    "import scipy as sp\n",
    "import pandas as pd\n",
    "import sympy as sym\n",
    "from odeintw import odeintw\n",
    "import multitype_new as mt\n",
    "import importlib\n",
    "importlib.reload(mt)\n",
    "from scipy.integrate import odeint"
   ]
  },
  {
   "cell_type": "code",
   "execution_count": 75,
   "metadata": {},
   "outputs": [],
   "source": [
    "idx = 0\n",
    "gamma = 0.25#1/7 #0.4 # Recovery Rate\n",
    "sigma = 1/3 #0.3 # Progression rate from exposed to infectious\n",
    "\n",
    "# Outputs from MATLAB for parsimonious model\n",
    "\n",
    "beta_vec = np.array([0.3225,\t0.415,\t0.47,\t0.6025,\t0.8775])\n",
    "# Reff_vec = np.array((2., 2.5, 3., 3.5, 4.))\n",
    "\n",
    "# R for the actual model is calculated later, labelled R_effective\n",
    "Reff_vec = beta_vec / gamma\n",
    "RV = Reff_vec[idx]\n",
    "ntypes = 8\n",
    "# Number of types-at-birth\n",
    "nexposed = int(ntypes/2)\n",
    "# Disease Parameters\n",
    "\n",
    "\n",
    "beta_baseline = beta_vec[idx]\n",
    "RV = beta_baseline / gamma\n",
    "epsilon = 1e-3\n",
    "\n",
    "Tmax = 1000 \n",
    "num = Tmax \n",
    "time = np.linspace(0, Tmax, num=num)\n",
    "dtime = time[1]-time[0]\n",
    "\n",
    "\n",
    "# Proportion of population in each type\n",
    "# p_vac = 0.7\n",
    "# p_no_vac = 1- p_vac \n",
    "\n",
    "# p_rec = 0.2 # % recovered from previous strains\n",
    "# p_sus = 1-p_rec # % never infected with any coronavirus\n",
    "\n",
    "# Reduced susceptibility for each type based on infection/vaccine immunity\n",
    "const_vec = np.squeeze(pd.read_csv('const_vec_in.csv',header=None).values) #np.array((1., sus_ur, sus_vu, sus_vr))\n",
    "prop_vec = np.squeeze(pd.read_csv('prop_vec_in.csv',header=None).values) #np.array((p_sus*p_no_vac, p_rec*p_no_vac, p_sus*p_vac, p_rec*p_vac))\n",
    "scale = const_vec*prop_vec\n",
    "\n",
    "\n",
    "# Vector of immigrants at each type - currently only 1 immigrant of type 1 (unvaccinated, no prior infection) every 5 days\n",
    "\n",
    "im = 0\n",
    "im_vec = np.zeros(ntypes)\n",
    "y0 = np.zeros(ntypes)\n",
    "y0[0] = 1\n",
    "ics = np.zeros(ntypes)\n",
    "def eta(t):\n",
    "    return im_vec\n",
    "\n",
    "# No reduction in transmission conferred by vaccination\n",
    "trans_vec = np.ones(nexposed)\n"
   ]
  },
  {
   "cell_type": "code",
   "execution_count": 77,
   "metadata": {},
   "outputs": [
    {
     "name": "stdout",
     "output_type": "stream",
     "text": [
      "[1.  0.6 0.6 0.6]\n",
      "[0.09393798 0.16031202 0.44515626 0.30059374]\n"
     ]
    }
   ],
   "source": [
    "print(const_vec)\n",
    "print(prop_vec)"
   ]
  },
  {
   "cell_type": "code",
   "execution_count": 78,
   "metadata": {},
   "outputs": [
    {
     "data": {
      "text/plain": [
       "array([1.29, 1.66, 1.88, 2.41, 3.51])"
      ]
     },
     "execution_count": 78,
     "metadata": {},
     "output_type": "execute_result"
    }
   ],
   "source": [
    "Reff_vec"
   ]
  },
  {
   "cell_type": "code",
   "execution_count": 79,
   "metadata": {},
   "outputs": [],
   "source": [
    "def lifetime_vec(beta, gamma, sigma, ntypes = ntypes, const_vec = const_vec, prop_vec = prop_vec, trans_vec = trans_vec):\n",
    "    nexposed = int(ntypes / 2)\n",
    "    omega_vec = sigma * np.ones(ntypes) \n",
    "\n",
    "        \n",
    "    for nex in range(0, nexposed):\n",
    "        omega_vec[nex + nexposed] = np.sum(const_vec*prop_vec*beta)*trans_vec[nex] + gamma\n",
    "    return omega_vec\n",
    "\n",
    "omega_vec = lifetime_vec(beta_baseline, gamma, sigma)\n",
    "\n",
    "def P(u, t): # Offspring distribution\n",
    "\n",
    "        ## Returns a vector of length ntypes with entry i containing  probabilities of generating particles \n",
    "        ## of each type from a particle of type i\n",
    "\n",
    "        pvec = np.zeros_like(u)\n",
    "        nexposed = int(ntypes/2)\n",
    "        omega = (np.sum(prop_vec * const_vec * beta_baseline) + gamma)\n",
    "        \n",
    "\n",
    "        sum_gen_funcs = np.sum((beta_baseline*prop_vec/omega)*const_vec*u[:nexposed])\n",
    "         \n",
    "        for nex in range(0, nexposed):\n",
    "\n",
    "            pvec[nex] = u[nex+nexposed] \n",
    "            pvec[nex+nexposed] =  u[nex+nexposed] * sum_gen_funcs  + (gamma/omega)\n",
    "        \n",
    "        return pvec  \n",
    "\n",
    "def Jacobian_mat(beta, gamma, sigma, ntypes = ntypes, const_vec = const_vec, prop_vec = prop_vec, omega_vec = omega_vec):\n",
    "    Omat = np.zeros((ntypes, ntypes))\n",
    "    omega_vec = sigma * np.ones(ntypes)       \n",
    "    nexposed = int(ntypes/2)\n",
    "    for nex in range(0, nexposed):\n",
    "        omega_vec[nex + nexposed] = np.sum(const_vec*prop_vec*beta) + gamma\n",
    "        Omat[nex, nex+nexposed] = omega_vec[nex]\n",
    "        Omat[nex+nexposed, :nexposed] = const_vec*prop_vec*beta \n",
    "        Omat[nex+nexposed, nex+nexposed] = np.sum(const_vec * beta * prop_vec)\n",
    "\n",
    "    Omat -= np.diag(omega_vec)\n",
    "    return Omat\n",
    "rho = (odeint(mt.set_odes, ics, time, args = (P, omega_vec)).T )\n",
    "q = np.ones_like(time)\n",
    "for i in range(ntypes):\n",
    "    q *= rho[i, :] ** y0[i]"
   ]
  },
  {
   "cell_type": "code",
   "execution_count": 98,
   "metadata": {},
   "outputs": [],
   "source": [
    "Omat = Jacobian_mat(beta_baseline, gamma, sigma)\n",
    "def deriv(u, t):\n",
    "    return u@Omat\n",
    "\n",
    "sol1 = np.sum(sp.integrate.odeint(deriv, y0, time), axis = 1)"
   ]
  },
  {
   "cell_type": "code",
   "execution_count": 99,
   "metadata": {},
   "outputs": [
    {
     "name": "stdout",
     "output_type": "stream",
     "text": [
      "Effective Reproduction number is: 0.8578746751900409\n"
     ]
    }
   ],
   "source": [
    "Sigma_mat = Jacobian_mat(beta_baseline, gamma, sigma).T\n",
    "Sigma_mat[nexposed:, :nexposed] = 0\n",
    "T_mat = Jacobian_mat(beta_baseline, gamma, sigma) - Sigma_mat\n",
    "next_gen = - T_mat @ nla.inv(Sigma_mat)\n",
    "R_effective = np.real_if_close(np.max(nla.eigvals(next_gen)))\n",
    "print('Effective Reproduction number is: ' + str(R_effective))"
   ]
  },
  {
   "cell_type": "code",
   "execution_count": 104,
   "metadata": {},
   "outputs": [],
   "source": [
    "read_I_VOC = 0\n",
    "if read_I_VOC:\n",
    "    I_VOC = np.genfromtxt('./I_VOC.csv')"
   ]
  },
  {
   "cell_type": "code",
   "execution_count": 101,
   "metadata": {},
   "outputs": [
    {
     "data": {
      "text/plain": [
       "<matplotlib.legend.Legend at 0x30ad17e20>"
      ]
     },
     "execution_count": 101,
     "metadata": {},
     "output_type": "execute_result"
    },
    {
     "data": {
      "image/png": "[encoded data removed]",
      "text/plain": [
       "<Figure size 640x480 with 1 Axes>"
      ]
     },
     "metadata": {},
     "output_type": "display_data"
    }
   ],
   "source": [
    "N = 66000000 # population of UK\n",
    "I0 = y0[0]\n",
    "S0 = N-I0\n",
    "ics_S = S0*prop_vec\n",
    "ics_E = np.array((I0, 0, 0, 0))\n",
    "ics_all = np.concatenate((ics_S, ics_E, np.zeros(4)))\n",
    "def model_deterministic(u, t):\n",
    "    # u[:4] are susceptibles, u[4:8] are exposed and u[8:] are infectious of types 1-4 \n",
    "    # It doesn't matter which type of I you are infected with, but transmission is scaled \n",
    "    # depending on the type of S that you are. \n",
    "    dS = - beta_baseline * np.sum(u[8:])* const_vec * u[:4] / N\n",
    "    dE = beta_baseline * np.sum(u[8:])* const_vec * u[:4] / N - sigma * u[4:8]\n",
    "    dI = sigma * u[4:8] - gamma * u[8:]\n",
    "    return np.concatenate((dS, dE, dI))\n",
    "\n",
    "plt.plot(time[:100], np.sum(odeint(model_deterministic, ics_all, time)[:, 4:], axis = 1)[:100], label = 'Deterministic')\n",
    "plt.plot(time[:100], sol1[:100], label = 'Stochastic (mean)')\n",
    "# plt.plot(I_VOC, label = 'I_VOC')\n",
    "plt.legend()"
   ]
  },
  {
   "cell_type": "code",
   "execution_count": 92,
   "metadata": {},
   "outputs": [
    {
     "data": {
      "text/plain": [
       "array([0.83304554])"
      ]
     },
     "execution_count": 92,
     "metadata": {},
     "output_type": "execute_result"
    }
   ],
   "source": [
    "def find_beta(beta):\n",
    "    Sigma_mat = Jacobian_mat(beta, gamma, sigma).T\n",
    "    Sigma_mat[nexposed:, :nexposed] = 0\n",
    "    T_mat = Jacobian_mat(beta, gamma, sigma) - Sigma_mat\n",
    "    next_gen = - T_mat @ nla.inv(Sigma_mat)\n",
    "    R_effective = np.max(nla.eigvals(next_gen))\n",
    "    return R_effective - 3.51\n",
    "\n",
    "sp.optimize.fsolve(find_beta, 0.5)"
   ]
  },
  {
   "cell_type": "code",
   "execution_count": null,
   "metadata": {},
   "outputs": [],
   "source": []
  }
 ],
 "metadata": {
  "kernelspec": {
   "display_name": "Python 3 (ipykernel)",
   "language": "python",
   "name": "python3"
  },
  "language_info": {
   "codemirror_mode": {
    "name": "ipython",
    "version": 3
   },
   "file_extension": ".py",
   "mimetype": "text/x-python",
   "name": "python",
   "nbconvert_exporter": "python",
   "pygments_lexer": "ipython3",
   "version": "3.11.7"
  }
 },
 "nbformat": 4,
 "nbformat_minor": 4
}
